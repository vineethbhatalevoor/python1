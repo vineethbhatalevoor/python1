{
 "cells": [
  {
   "cell_type": "code",
   "execution_count": 3,
   "id": "fd217918-92a3-40ef-90a1-3c9e1ad21ed1",
   "metadata": {},
   "outputs": [
    {
     "name": "stdin",
     "output_type": "stream",
     "text": [
      "Enter the year of birth of person: 2023\n"
     ]
    },
    {
     "name": "stdout",
     "output_type": "stream",
     "text": [
      "2023 Year is not a leap year\n"
     ]
    }
   ],
   "source": [
    "\"\"\"To Check whether year of birth is leap year or not\"\"\"\n",
    "import datetime\n",
    "year = int(input(\"Enter the year of birth of person:\"))\n",
    "today = datetime.date.today()\n",
    "if year%4==0:\n",
    "    print(year,\"Year is a leap year\")\n",
    "\n",
    "else:\n",
    "    print(year,\"Year is not a leap year\")"
   ]
  },
  {
   "cell_type": "code",
   "execution_count": 4,
   "id": "2e064e2e-0d93-4135-965c-a71dad1233ac",
   "metadata": {},
   "outputs": [
    {
     "name": "stdin",
     "output_type": "stream",
     "text": [
      "Enter the year of birth of person: 2016\n"
     ]
    },
    {
     "name": "stdout",
     "output_type": "stream",
     "text": [
      "2016 Year is a leap year\n"
     ]
    }
   ],
   "source": [
    "\"\"\"To Check whether year of birth is leap year or not\"\"\"\n",
    "import datetime\n",
    "year = int(input(\"Enter the year of birth of person:\"))\n",
    "today = datetime.date.today()\n",
    "if year%4==0:\n",
    "    print(year,\"Year is a leap year\")\n",
    "\n",
    "else:\n",
    "    print(year,\"Year is not a leap year\")"
   ]
  },
  {
   "cell_type": "code",
   "execution_count": 5,
   "id": "f0a0d453-dfee-4d8b-89f3-9064115e0898",
   "metadata": {},
   "outputs": [
    {
     "name": "stdin",
     "output_type": "stream",
     "text": [
      "Enter the year of birth of person: 2020\n"
     ]
    },
    {
     "name": "stdout",
     "output_type": "stream",
     "text": [
      "2020 Year is a leap year\n"
     ]
    }
   ],
   "source": [
    "\"\"\"To Check whether year of birth is leap year or not\"\"\"\n",
    "import datetime\n",
    "year = int(input(\"Enter the year of birth of person:\"))\n",
    "today = datetime.date.today()\n",
    "if year%4==0:\n",
    "    print(year,\"Year is a leap year\")\n",
    "\n",
    "else:\n",
    "    print(year,\"Year is not a leap year\")"
   ]
  },
  {
   "cell_type": "code",
   "execution_count": null,
   "id": "2daed4eb-56e8-47cd-ae71-416d00f25b3f",
   "metadata": {},
   "outputs": [],
   "source": []
  }
 ],
 "metadata": {
  "kernelspec": {
   "display_name": "Python 3 (ipykernel)",
   "language": "python",
   "name": "python3"
  },
  "language_info": {
   "codemirror_mode": {
    "name": "ipython",
    "version": 3
   },
   "file_extension": ".py",
   "mimetype": "text/x-python",
   "name": "python",
   "nbconvert_exporter": "python",
   "pygments_lexer": "ipython3",
   "version": "3.12.4"
  }
 },
 "nbformat": 4,
 "nbformat_minor": 5
}
