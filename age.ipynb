{
 "cells": [
  {
   "cell_type": "code",
   "execution_count": 3,
   "id": "f080e15b-10c2-431c-b0ea-eef3f9d9b864",
   "metadata": {},
   "outputs": [
    {
     "name": "stdin",
     "output_type": "stream",
     "text": [
      "Enter the name of person: Vishnu\n",
      "Enter the year of birth of person: 1947\n"
     ]
    },
    {
     "name": "stdout",
     "output_type": "stream",
     "text": [
      "Vishnu  is a senior citizen\n"
     ]
    }
   ],
   "source": [
    "\"\"\"This program is to check whether the person is senior citizen or not\"\"\"\n",
    "import datetime\n",
    "name=input(\"Enter the name of person:\")\n",
    "Birth_year=int(input(\"Enter the year of birth of person:\"))\n",
    "today=datetime.date.today()\n",
    "year=today.year\n",
    "age=year-Birth_year\n",
    "if age>=60:\n",
    "    print(name,\" is a senior citizen\")\n",
    "\n",
    "else:\n",
    "    print(name,\" is not a senior citizen\")"
   ]
  },
  {
   "cell_type": "code",
   "execution_count": 4,
   "id": "02057966-3d37-42e7-b366-d3479c51c68d",
   "metadata": {},
   "outputs": [
    {
     "name": "stdin",
     "output_type": "stream",
     "text": [
      "Enter the name of person: Rama\n",
      "Enter the year of birth of person: 2000\n"
     ]
    },
    {
     "name": "stdout",
     "output_type": "stream",
     "text": [
      "Rama  is not a senior citizen\n"
     ]
    }
   ],
   "source": [
    "\"\"\"This program is to check whether the person is senior citizen or not\"\"\"\n",
    "import datetime\n",
    "name=input(\"Enter the name of person:\")\n",
    "Birth_year=int(input(\"Enter the year of birth of person:\"))\n",
    "today=datetime.date.today()\n",
    "year=today.year\n",
    "age=year-Birth_year\n",
    "if age>=60:\n",
    "    print(name,\" is a senior citizen\")\n",
    "\n",
    "else:\n",
    "    print(name,\" is not a senior citizen\")"
   ]
  },
  {
   "cell_type": "code",
   "execution_count": 5,
   "id": "543cec09-924d-4c49-9f2d-3652ed34525c",
   "metadata": {},
   "outputs": [
    {
     "name": "stdin",
     "output_type": "stream",
     "text": [
      "Enter the name of person: Vinay\n",
      "Enter the month of birth of person: 10\n"
     ]
    },
    {
     "name": "stdout",
     "output_type": "stream",
     "text": [
      "Vinay  Birthday is in October\n"
     ]
    }
   ],
   "source": [
    "\"\"\"It checks whether birth month is in october\"\"\"\n",
    "import datetime\n",
    "name=input(\"Enter the name of person:\")\n",
    "Birth_month=int(input(\"Enter the month of birth of person:\"))\n",
    "today=datetime.date.today()\n",
    "month=today.month\n",
    "if month==Birth_month:\n",
    "    print(name,\" Birthday is in October\")\n",
    "\n",
    "else:\n",
    "    print(name,\" Birthday is not in October\")"
   ]
  },
  {
   "cell_type": "code",
   "execution_count": 6,
   "id": "38796eea-5a1d-4c39-b5a5-510be28970c1",
   "metadata": {},
   "outputs": [
    {
     "name": "stdin",
     "output_type": "stream",
     "text": [
      "Enter the name of person: Rahul\n",
      "Enter the month of birth of person: 8\n"
     ]
    },
    {
     "name": "stdout",
     "output_type": "stream",
     "text": [
      "Rahul  Birthday is not in October\n"
     ]
    }
   ],
   "source": [
    "\"\"\"It checks whether birth month is in october\"\"\"\n",
    "import datetime\n",
    "name=input(\"Enter the name of person:\")\n",
    "Birth_month=int(input(\"Enter the month of birth of person:\"))\n",
    "today=datetime.date.today()\n",
    "month=today.month\n",
    "if month==Birth_month:\n",
    "    print(name,\" Birthday is in October\")\n",
    "\n",
    "else:\n",
    "    print(name,\" Birthday is not in October\")"
   ]
  },
  {
   "cell_type": "code",
   "execution_count": 12,
   "id": "4b1c9981-7905-490e-9e64-d315770e734c",
   "metadata": {},
   "outputs": [
    {
     "name": "stdin",
     "output_type": "stream",
     "text": [
      "Enter the name of person:  Rohan\n",
      "Enter the date of birth of person: 20\n"
     ]
    },
    {
     "name": "stdout",
     "output_type": "stream",
     "text": [
      "Rohan Birthday is on 20\n"
     ]
    }
   ],
   "source": [
    "\"\"\"It checks whether birthday is on 20th\"\"\"\n",
    "import datetime\n",
    "name = input(\"Enter the name of person: \")\n",
    "Birth_day = int(input(\"Enter the date of birth of person:\"))\n",
    "date = today.day\n",
    "if date==Birth_day:\n",
    "    print(name,\"Birthday is on 20\")\n",
    "\n",
    "else:\n",
    "    print(name,\"Birthday is not on 20\")"
   ]
  },
  {
   "cell_type": "code",
   "execution_count": 13,
   "id": "2d56b472-9e70-4e44-9f3e-2650e64f1ba1",
   "metadata": {},
   "outputs": [
    {
     "name": "stdin",
     "output_type": "stream",
     "text": [
      "Enter the name of person:  Vinyas\n",
      "Enter the date of birth of person: 25\n"
     ]
    },
    {
     "name": "stdout",
     "output_type": "stream",
     "text": [
      "Vinyas Birthday is not on 20\n"
     ]
    }
   ],
   "source": [
    "\"\"\"It checks whether birthday is on 20th\"\"\"\n",
    "import datetime\n",
    "name = input(\"Enter the name of person: \")\n",
    "Birth_day = int(input(\"Enter the date of birth of person:\"))\n",
    "date = today.day\n",
    "if date==Birth_day:\n",
    "    print(name,\"Birthday is on 20\")\n",
    "\n",
    "else:\n",
    "    print(name,\"Birthday is not on 20\")"
   ]
  },
  {
   "cell_type": "code",
   "execution_count": null,
   "id": "c760c6ae-9529-4eef-83f9-7f03b8e597fe",
   "metadata": {},
   "outputs": [],
   "source": []
  }
 ],
 "metadata": {
  "kernelspec": {
   "display_name": "Python 3 (ipykernel)",
   "language": "python",
   "name": "python3"
  },
  "language_info": {
   "codemirror_mode": {
    "name": "ipython",
    "version": 3
   },
   "file_extension": ".py",
   "mimetype": "text/x-python",
   "name": "python",
   "nbconvert_exporter": "python",
   "pygments_lexer": "ipython3",
   "version": "3.12.4"
  }
 },
 "nbformat": 4,
 "nbformat_minor": 5
}
