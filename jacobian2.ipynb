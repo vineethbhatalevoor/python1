{
 "cells": [
  {
   "cell_type": "code",
   "execution_count": 3,
   "id": "dd1a68bf-63d9-493d-9813-1b80d2e2fd97",
   "metadata": {},
   "outputs": [
    {
     "name": "stdout",
     "output_type": "stream",
     "text": [
      "Jacobian Matrix is:\n",
      "\n"
     ]
    },
    {
     "data": {
      "text/latex": [
       "$\\displaystyle \\left[\\begin{matrix}1 & 6 y & - 3 z^{2}\\\\8 x y z & 4 x^{2} z & 4 x^{2} y\\\\- y & - x & 4 z\\end{matrix}\\right]$"
      ],
      "text/plain": [
       "Matrix([\n",
       "[      1,      6*y,  -3*z**2],\n",
       "[8*x*y*z, 4*x**2*z, 4*x**2*y],\n",
       "[     -y,       -x,      4*z]])"
      ]
     },
     "metadata": {},
     "output_type": "display_data"
    },
    {
     "name": "stdout",
     "output_type": "stream",
     "text": [
      "\n",
      "J =  4*x**3*y - 24*x**2*y**3 + 12*x**2*y*z**3 + 16*x**2*z**2 - 192*x*y**2*z**2\n",
      "\n",
      "\n",
      "J at (1,-1,0) is: 20\n"
     ]
    }
   ],
   "source": [
    "from sympy import *\n",
    "x,y,z=symbols(\"x,y,z\")\n",
    "u=x+3*y**2-z**3\n",
    "v=4*x**2*y*z\n",
    "w=2*z**2-x*y\n",
    "dux=diff(u,x)\n",
    "duy=diff(u,y)\n",
    "duz=diff(u,z)\n",
    "dvx=diff(v,x)\n",
    "dvy=diff(v,y)\n",
    "dvz=diff(v,z)\n",
    "dwx=diff(w,x)\n",
    "dwy=diff(w,y)\n",
    "dwz=diff(w,z)\n",
    "J=Matrix([[dux,duy,duz],[dvx,dvy,dvz],[dwx,dwy,dwz]])\n",
    "print(\"Jacobian Matrix is:\\n\")\n",
    "display(J)\n",
    "Jac=det(J).doit()\n",
    "print(\"\\nJ = \",Jac)\n",
    "J1=J.subs([(x,1),(y,-1),(z,0)])\n",
    "Jac1=det(J1).doit()\n",
    "print(\"\\n\\nJ at (1,-1,0) is:\",Jac1)"
   ]
  },
  {
   "cell_type": "code",
   "execution_count": null,
   "id": "9db1238f-7770-4bb2-8b1b-694dd1603db6",
   "metadata": {},
   "outputs": [],
   "source": []
  }
 ],
 "metadata": {
  "kernelspec": {
   "display_name": "Python 3 (ipykernel)",
   "language": "python",
   "name": "python3"
  },
  "language_info": {
   "codemirror_mode": {
    "name": "ipython",
    "version": 3
   },
   "file_extension": ".py",
   "mimetype": "text/x-python",
   "name": "python",
   "nbconvert_exporter": "python",
   "pygments_lexer": "ipython3",
   "version": "3.12.4"
  }
 },
 "nbformat": 4,
 "nbformat_minor": 5
}
