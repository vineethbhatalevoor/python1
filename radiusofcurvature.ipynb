{
 "cells": [
  {
   "cell_type": "code",
   "execution_count": 5,
   "id": "ca182e7d-1aa4-4e18-b086-4c4daf6ce0cf",
   "metadata": {},
   "outputs": [
    {
     "name": "stdout",
     "output_type": "stream",
     "text": [
      "The radius of curvature is 3.7712 units\n"
     ]
    }
   ],
   "source": [
    "from sympy import *\n",
    "r,t=symbols(\"r,t\")\n",
    "r=4*(1+cos(t))\n",
    "r1=diff(r,t).doit()\n",
    "r2=diff(r1,t).doit()\n",
    "rho=(r**2+r1**2)**(1.5)/(r**2+2*r1**2-r*r2)\n",
    "rho1=rho.subs(t,pi/2)\n",
    "print(\"The radius of curvature is %3.4f units\"%rho1)"
   ]
  },
  {
   "cell_type": "code",
   "execution_count": null,
   "id": "9dd34568-c456-4317-b021-1a6dbb380436",
   "metadata": {},
   "outputs": [],
   "source": []
  }
 ],
 "metadata": {
  "kernelspec": {
   "display_name": "Python 3 (ipykernel)",
   "language": "python",
   "name": "python3"
  },
  "language_info": {
   "codemirror_mode": {
    "name": "ipython",
    "version": 3
   },
   "file_extension": ".py",
   "mimetype": "text/x-python",
   "name": "python",
   "nbconvert_exporter": "python",
   "pygments_lexer": "ipython3",
   "version": "3.12.4"
  }
 },
 "nbformat": 4,
 "nbformat_minor": 5
}
