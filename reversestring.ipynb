{
 "cells": [
  {
   "cell_type": "code",
   "execution_count": 4,
   "id": "b38c3348-df1b-4ce2-876a-2a0c3054d96f",
   "metadata": {},
   "outputs": [
    {
     "name": "stdin",
     "output_type": "stream",
     "text": [
      "Enter your name: Vineeth\n"
     ]
    },
    {
     "name": "stdout",
     "output_type": "stream",
     "text": [
      "Original = Vineeth\n",
      "Reversed = hteeniV\n"
     ]
    }
   ],
   "source": [
    "\"\"\"To reverse a string\"\"\"\n",
    "name=input(\"Enter your name:\")\n",
    "str=name[::-1]\n",
    "print(\"Original =\",name)\n",
    "print(\"Reversed =\",str)"
   ]
  },
  {
   "cell_type": "code",
   "execution_count": 3,
   "id": "037902e1-22f3-49da-a797-9c757b2ce58a",
   "metadata": {},
   "outputs": [
    {
     "name": "stdin",
     "output_type": "stream",
     "text": [
      "Enter your name: Akshay\n"
     ]
    },
    {
     "name": "stdout",
     "output_type": "stream",
     "text": [
      "Original = Akshay\n",
      "Reversed = yahskA\n"
     ]
    }
   ],
   "source": [
    "\"\"\"To reverse a string\"\"\"\n",
    "name=input(\"Enter your name:\")\n",
    "str=name[::-1]\n",
    "print(\"Original =\",name)\n",
    "print(\"Reversed =\",str)"
   ]
  },
  {
   "cell_type": "code",
   "execution_count": null,
   "id": "77bf7180-c931-45d0-9355-381b0e0ad238",
   "metadata": {},
   "outputs": [],
   "source": []
  }
 ],
 "metadata": {
  "kernelspec": {
   "display_name": "Python 3 (ipykernel)",
   "language": "python",
   "name": "python3"
  },
  "language_info": {
   "codemirror_mode": {
    "name": "ipython",
    "version": 3
   },
   "file_extension": ".py",
   "mimetype": "text/x-python",
   "name": "python",
   "nbconvert_exporter": "python",
   "pygments_lexer": "ipython3",
   "version": "3.12.4"
  }
 },
 "nbformat": 4,
 "nbformat_minor": 5
}
