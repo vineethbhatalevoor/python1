{
 "cells": [
  {
   "cell_type": "code",
   "execution_count": 1,
   "id": "dc9b3a26-239f-4dc0-acbf-6f20bd1d6c00",
   "metadata": {},
   "outputs": [
    {
     "name": "stdin",
     "output_type": "stream",
     "text": [
      "Enter the name of the student: Rahul\n",
      "Usn of the student: C40\n",
      "Enter the marks scored in subject 1: 96\n",
      "Enter the marks scored in subject 2: 94\n",
      "Enter the marks scored in subject 3: 95\n"
     ]
    },
    {
     "name": "stdout",
     "output_type": "stream",
     "text": [
      "\n",
      " Student Details:\n",
      "Name of the Student: Rahul\n",
      "USN of the student: C40\n",
      "Marks in Subject 1: 96\n",
      "Marks in Subject 2: 94\n",
      "Marks in Subject 3: 95\n",
      "Total Marks: 285\n",
      "Percentage of Marks is 95.00\n"
     ]
    }
   ],
   "source": [
    "name=input(\"Enter the name of the student:\")\n",
    "usn=input(\"Usn of the student:\")\n",
    "subject1=int(input(\"Enter the marks scored in subject 1:\"))\n",
    "subject2=int(input(\"Enter the marks scored in subject 2:\"))\n",
    "subject3=int(input(\"Enter the marks scored in subject 3:\"))\n",
    "total_marks=subject1+subject2+subject3\n",
    "percentage=total_marks/3\n",
    "print(\"\\n Student Details:\")\n",
    "print(\"Name of the Student:\",name)\n",
    "print(\"USN of the student:\",usn)\n",
    "print(\"Marks in Subject 1:\",subject1)\n",
    "print(\"Marks in Subject 2:\",subject2)\n",
    "print(\"Marks in Subject 3:\",subject3)\n",
    "print(\"Total Marks:\",total_marks)\n",
    "print(\"Percentage of Marks is {:.2f}\".format(percentage))\n"
   ]
  },
  {
   "cell_type": "code",
   "execution_count": 15,
   "id": "032ddddc-3717-4a25-963b-6fe9888c7013",
   "metadata": {},
   "outputs": [
    {
     "name": "stdin",
     "output_type": "stream",
     "text": [
      "Enter the name of the person: Vishnu\n",
      "Enter the birth year of the person: 1956\n"
     ]
    },
    {
     "name": "stdout",
     "output_type": "stream",
     "text": [
      "Vishnu is a senior citizen.\n"
     ]
    }
   ],
   "source": [
    "import datetime\n",
    "name=input(\"Enter the name of the person:\")\n",
    "Birth_year=int(input(\"Enter the birth year of the person:\"))\n",
    "today=datetime.date.today()\n",
    "year=today.year\n",
    "age=year-Birth_year\n",
    "if age<60:\n",
    "    print(name,\"is not a senior citizen.\")\n",
    "else:\n",
    "    print(name,\"is a senior citizen.\")\n",
    "    "
   ]
  },
  {
   "cell_type": "code",
   "execution_count": 17,
   "id": "b43c74d0-165f-47b4-88a5-b363aeef1c91",
   "metadata": {},
   "outputs": [
    {
     "name": "stdin",
     "output_type": "stream",
     "text": [
      "Enter a number: 4\n"
     ]
    },
    {
     "name": "stdout",
     "output_type": "stream",
     "text": [
      "Fibonacci Series: 0 1 1 2 "
     ]
    }
   ],
   "source": [
    "num=int(input(\"Enter a number:\"))\n",
    "first_number=0\n",
    "second_number=1\n",
    "if num<0:\n",
    "    print(\"Please enter a positive number\")\n",
    "elif num==1:\n",
    "    print(\"Fibonacci Series:\",first_number)\n",
    "else:\n",
    "    print(\"Fibonacci Series:\",first_number,second_number,end=' ')\n",
    "    for i in range(2,num):\n",
    "        next_number=first_number+second_number\n",
    "        first_number=second_number\n",
    "        second_number=next_number\n",
    "        print(next_number,end=' ')"
   ]
  },
  {
   "cell_type": "code",
   "execution_count": 45,
   "id": "55c19df8-f15b-407a-83e5-9bc196888776",
   "metadata": {},
   "outputs": [
    {
     "name": "stdin",
     "output_type": "stream",
     "text": [
      "Enter a number to find factorial: 5\n"
     ]
    },
    {
     "name": "stdout",
     "output_type": "stream",
     "text": [
      "Factorial of  5 is 120\n"
     ]
    },
    {
     "name": "stdin",
     "output_type": "stream",
     "text": [
      "\n",
      " Enter a value of n: 5\n",
      "Enter a value of r (r<n): 2\n"
     ]
    },
    {
     "name": "stdout",
     "output_type": "stream",
     "text": [
      "Binomial coefficient of  5 and  2 is:  10.0\n"
     ]
    }
   ],
   "source": [
    "def factorial(num):\n",
    "    result=1\n",
    "    for i in range(num,0,-1):\n",
    "            result=result*i\n",
    "    print(\"Factorial of \",num,\"is\", result)\n",
    "num=int(input(\"Enter a number to find factorial:\"))\n",
    "factorial(num)\n",
    "from math import factorial as fact\n",
    "n=int(input(\"\\n Enter a value of n:\"))\n",
    "r=int(input(\"Enter a value of r (r<n):\"))\n",
    "if n<r:\n",
    "      print(\"n should be greater than r\")\n",
    "      print(\"Binomial coefficient of \",n,\"and \",r,\"is: \",None)\n",
    "else:\n",
    "    result=fact(n)/(fact(r)*fact(n-r))\n",
    "    print(\"Binomial coefficient of \",n,\"and \",r,\"is: \",result)"
   ]
  },
  {
   "cell_type": "code",
   "execution_count": 51,
   "id": "18bde5df-5056-43b8-af6b-9fb514ec46e8",
   "metadata": {},
   "outputs": [
    {
     "name": "stdin",
     "output_type": "stream",
     "text": [
      "Enter number of elements you need  5\n"
     ]
    },
    {
     "name": "stdout",
     "output_type": "stream",
     "text": [
      "Enter numbers in array\n"
     ]
    },
    {
     "name": "stdin",
     "output_type": "stream",
     "text": [
      "number: 5\n",
      "number: 6\n",
      "number: 7\n",
      "number: 8\n",
      "number: 9\n"
     ]
    },
    {
     "name": "stdout",
     "output_type": "stream",
     "text": [
      "List is : [5, 6, 7, 8, 9]\n",
      "\n",
      "Mean=7.000\n",
      "Variance=2.00\n",
      "Standard Deviation=1.41\n"
     ]
    }
   ],
   "source": [
    "import math\n",
    "List_1=list()\n",
    "number=int(input(\"Enter number of elements you need \"))\n",
    "print(\"Enter numbers in array\")\n",
    "for i in range(number):\n",
    "    n=int(input(\"number:\"))\n",
    "    List_1.append(n)\n",
    "print(\"List is :\",List_1)\n",
    "sum_series=0\n",
    "sum_square=0\n",
    "for x in List_1:\n",
    "    sum_series=sum_series+x\n",
    "    mean=sum_series/number\n",
    "for x in List_1:\n",
    "    sum_square=sum_square+(x-mean)**2\n",
    "    variance=sum_square/number\n",
    "    std_dev=math.sqrt(variance)\n",
    "print('\\nMean={:.3f}\\nVariance={:.2f}\\nStandard Deviation={:.2f}'.format(mean,variance,std_dev))"
   ]
  },
  {
   "cell_type": "code",
   "execution_count": 69,
   "id": "ea6699a3-bc60-49ae-9199-0814dc55f367",
   "metadata": {},
   "outputs": [
    {
     "name": "stdin",
     "output_type": "stream",
     "text": [
      "Enter multi-digit number: 01123444\n"
     ]
    },
    {
     "name": "stdout",
     "output_type": "stream",
     "text": [
      "number 01123444 has:\n",
      "0 digit 1 times\n",
      "1 digit 2 times\n",
      "2 digit 1 times\n",
      "3 digit 1 times\n",
      "4 digit 3 times\n"
     ]
    }
   ],
   "source": [
    "num=input(\"Enter multi-digit number:\")\n",
    "n=len(num)\n",
    "n0,n1,n2,n3,n4,n5,n6,n7,n8,n9=0,0,0,0,0,0,0,0,0,0\n",
    "for i in range(n):\n",
    "    if num[i]=='0':\n",
    "        n0+=1\n",
    "    elif num[i]=='1':\n",
    "        n1+=1\n",
    "    \n",
    "    elif num[i]=='2':\n",
    "        n2+=1\n",
    "    \n",
    "    elif num[i]=='3':\n",
    "        n3+=1\n",
    "    \n",
    "    elif num[i]=='4':\n",
    "        n4+=1\n",
    "    \n",
    "    elif num[i]=='5':\n",
    "        n5+=1\n",
    "    \n",
    "    elif num[i]=='6':\n",
    "        n6+=1\n",
    "    \n",
    "    elif num[i]=='7':\n",
    "        n7+=1\n",
    "    \n",
    "    elif num[i]=='8':\n",
    "        n8+=1\n",
    "    \n",
    "    elif num[i]=='9':\n",
    "        n9+=1\n",
    "\n",
    "dfreq=[n0,n1,n2,n3,n4,n5,n6,n7,n8,n9]\n",
    "print(\"number\",num,\"has:\")\n",
    "for i in range(10):\n",
    "    if dfreq[i]==0:\n",
    "        continue\n",
    "    print(i,\"digit\",dfreq[i],\"times\")"
   ]
  },
  {
   "cell_type": "code",
   "execution_count": null,
   "id": "98de43a2-2df0-4418-8d8f-bde982fb7fe8",
   "metadata": {},
   "outputs": [],
   "source": []
  }
 ],
 "metadata": {
  "kernelspec": {
   "display_name": "Python 3 (ipykernel)",
   "language": "python",
   "name": "python3"
  },
  "language_info": {
   "codemirror_mode": {
    "name": "ipython",
    "version": 3
   },
   "file_extension": ".py",
   "mimetype": "text/x-python",
   "name": "python",
   "nbconvert_exporter": "python",
   "pygments_lexer": "ipython3",
   "version": "3.12.4"
  }
 },
 "nbformat": 4,
 "nbformat_minor": 5
}
