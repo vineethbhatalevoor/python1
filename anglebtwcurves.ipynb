{
 "cells": [
  {
   "cell_type": "code",
   "execution_count": 3,
   "id": "bf35f960-a79a-4f2a-b920-c735313a389c",
   "metadata": {},
   "outputs": [
    {
     "name": "stdout",
     "output_type": "stream",
     "text": [
      "Angle between the two curves is 1.5708 radians\n"
     ]
    }
   ],
   "source": [
    "from sympy import *\n",
    "r,t=symbols(\"r,t\")\n",
    "r1=4*(cos(t))\n",
    "r2=5*(sin(t))\n",
    "dr1=diff(r1,t)\n",
    "dr2=diff(r2,t)\n",
    "t1=r1/dr1\n",
    "t2=r2/dr2\n",
    "q=solve(r1-r2,t)\n",
    "w1=t1.subs({t:float(q[0])})\n",
    "w2=t2.subs({t:float(q[0])})\n",
    "y1=atan(w1)\n",
    "y2=atan(w2)\n",
    "w=abs(y1-y2)\n",
    "print(\"Angle between the two curves is %0.4f radians\"%float(w))\n"
   ]
  },
  {
   "cell_type": "code",
   "execution_count": null,
   "id": "6f8e685e-bdb9-4d17-87d3-cc294001214c",
   "metadata": {},
   "outputs": [],
   "source": []
  }
 ],
 "metadata": {
  "kernelspec": {
   "display_name": "Python 3 (ipykernel)",
   "language": "python",
   "name": "python3"
  },
  "language_info": {
   "codemirror_mode": {
    "name": "ipython",
    "version": 3
   },
   "file_extension": ".py",
   "mimetype": "text/x-python",
   "name": "python",
   "nbconvert_exporter": "python",
   "pygments_lexer": "ipython3",
   "version": "3.12.4"
  }
 },
 "nbformat": 4,
 "nbformat_minor": 5
}
