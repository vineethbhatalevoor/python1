{
 "cells": [
  {
   "cell_type": "code",
   "execution_count": 1,
   "id": "ef0e425c-bc53-4a45-be54-981b8f54835e",
   "metadata": {},
   "outputs": [
    {
     "name": "stdout",
     "output_type": "stream",
     "text": [
      "Jacobian Matrix is:\n",
      "\n"
     ]
    },
    {
     "data": {
      "text/latex": [
       "$\\displaystyle \\left[\\begin{matrix}\\frac{y}{z} & \\frac{x}{z} & - \\frac{x y}{z^{2}}\\\\- \\frac{y z}{x^{2}} & \\frac{z}{x} & \\frac{y}{x}\\\\\\frac{z}{y} & - \\frac{x z}{y^{2}} & \\frac{x}{y}\\end{matrix}\\right]$"
      ],
      "text/plain": [
       "Matrix([\n",
       "[      y/z,       x/z, -x*y/z**2],\n",
       "[-y*z/x**2,       z/x,       y/x],\n",
       "[      z/y, -x*z/y**2,       x/y]])"
      ]
     },
     "metadata": {},
     "output_type": "display_data"
    },
    {
     "name": "stdout",
     "output_type": "stream",
     "text": [
      "\n",
      "J =  4\n"
     ]
    }
   ],
   "source": [
    "from sympy import *\n",
    "x,y,z=symbols(\"x,y,z\")\n",
    "u=x*y/z\n",
    "v=y*z/x\n",
    "w=z*x/y\n",
    "dux=diff(u,x)\n",
    "duy=diff(u,y)\n",
    "duz=diff(u,z)\n",
    "dvx=diff(v,x)\n",
    "dvy=diff(v,y)\n",
    "dvz=diff(v,z)\n",
    "dwx=diff(w,x)\n",
    "dwy=diff(w,y)\n",
    "dwz=diff(w,z)\n",
    "J=Matrix([[dux,duy,duz],[dvx,dvy,dvz],[dwx,dwy,dwz]])\n",
    "print(\"Jacobian Matrix is:\\n\")\n",
    "display(J)\n",
    "Jac=det(J).doit()\n",
    "print(\"\\nJ = \",Jac)"
   ]
  },
  {
   "cell_type": "code",
   "execution_count": null,
   "id": "c615401d-4d4d-4167-a35e-421dde728bc3",
   "metadata": {},
   "outputs": [],
   "source": []
  }
 ],
 "metadata": {
  "kernelspec": {
   "display_name": "Python 3 (ipykernel)",
   "language": "python",
   "name": "python3"
  },
  "language_info": {
   "codemirror_mode": {
    "name": "ipython",
    "version": 3
   },
   "file_extension": ".py",
   "mimetype": "text/x-python",
   "name": "python",
   "nbconvert_exporter": "python",
   "pygments_lexer": "ipython3",
   "version": "3.12.4"
  }
 },
 "nbformat": 4,
 "nbformat_minor": 5
}
