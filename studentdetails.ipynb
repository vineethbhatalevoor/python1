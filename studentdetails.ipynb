{
 "cells": [
  {
   "cell_type": "code",
   "execution_count": 4,
   "id": "0ff8ef18-fd83-4d6f-abec-26e6e6150d4f",
   "metadata": {},
   "outputs": [
    {
     "name": "stdin",
     "output_type": "stream",
     "text": [
      "Enter the name:  Vineeth\n",
      "Enter the USN:  C47\n",
      "Enter the marks scored in subject 1: 98\n",
      "Enter the marks scored in subject 2: 95\n",
      "Enter the marks scored in subject 3: 97\n"
     ]
    },
    {
     "name": "stdout",
     "output_type": "stream",
     "text": [
      "\n",
      "Student Details:\n",
      "Name of the student is:  Vineeth\n",
      "USN of the student is:  C47\n",
      "Marks scored in subject 1:  98\n",
      "Marks scored in subject 2:  95\n",
      "Marks scored in subject 3:  97\n",
      "The total marks are 290\n",
      "The percentage is 96.67\n"
     ]
    }
   ],
   "source": [
    "\"\"\"To read and display student details\"\"\"\n",
    "name=input(\"Enter the name: \")\n",
    "usn=input(\"Enter the USN: \")\n",
    "subject1=int(input(\"Enter the marks scored in subject 1:\"))\n",
    "subject2=int(input(\"Enter the marks scored in subject 2:\"))\n",
    "subject3=int(input(\"Enter the marks scored in subject 3:\"))\n",
    "Total_Marks=subject1+subject2+subject3\n",
    "percentage=Total_Marks/3\n",
    "print(\"\\nStudent Details:\")\n",
    "print(\"Name of the student is: \",name)\n",
    "print(\"USN of the student is: \",usn)\n",
    "print(\"Marks scored in subject 1: \",subject1)\n",
    "print(\"Marks scored in subject 2: \",subject2)\n",
    "print(\"Marks scored in subject 3: \",subject3)\n",
    "print(\"The total marks are\", Total_Marks)\n",
    "print(\"The percentage is {:.2f}\".format(percentage))"
   ]
  },
  {
   "cell_type": "code",
   "execution_count": null,
   "id": "116fb044-1fc4-4cf9-87c8-0ecce8cb9f44",
   "metadata": {},
   "outputs": [],
   "source": []
  }
 ],
 "metadata": {
  "kernelspec": {
   "display_name": "Python 3 (ipykernel)",
   "language": "python",
   "name": "python3"
  },
  "language_info": {
   "codemirror_mode": {
    "name": "ipython",
    "version": 3
   },
   "file_extension": ".py",
   "mimetype": "text/x-python",
   "name": "python",
   "nbconvert_exporter": "python",
   "pygments_lexer": "ipython3",
   "version": "3.12.4"
  }
 },
 "nbformat": 4,
 "nbformat_minor": 5
}
